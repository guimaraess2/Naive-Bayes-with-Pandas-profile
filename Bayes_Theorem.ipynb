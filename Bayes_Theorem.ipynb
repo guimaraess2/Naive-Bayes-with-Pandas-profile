{
  "nbformat": 4,
  "nbformat_minor": 0,
  "metadata": {
    "colab": {
      "name": " Bayes_Theorem.ipynb",
      "provenance": [],
      "collapsed_sections": [],
      "authorship_tag": "ABX9TyNFsCVcbnSvHielTNJJ1ssY",
      "include_colab_link": true
    },
    "kernelspec": {
      "name": "python3",
      "display_name": "Python 3"
    },
    "language_info": {
      "name": "python"
    }
  },
  "cells": [
    {
      "cell_type": "markdown",
      "metadata": {
        "id": "view-in-github",
        "colab_type": "text"
      },
      "source": [
        "<a href=\"https://colab.research.google.com/github/guimaraess2/Naive-Bayes-with-Pandas-profilling/blob/master/Bayes_Theorem.ipynb\" target=\"_parent\"><img src=\"https://colab.research.google.com/assets/colab-badge.svg\" alt=\"Open In Colab\"/></a>"
      ]
    },
    {
      "cell_type": "markdown",
      "source": [
        "**Importando as bibliotecas** **/ Importing the libraries**"
      ],
      "metadata": {
        "id": "0mNERkQ5Qfbr"
      }
    },
    {
      "cell_type": "code",
      "execution_count": null,
      "metadata": {
        "id": "FMJ1TQhx9jat"
      },
      "outputs": [],
      "source": [
        "import pandas as pd\n",
        "import numpy as np\n",
        "from sklearn.preprocessing import LabelEncoder\n",
        "from sklearn.naive_bayes import GaussianNB\n",
        "import warnings\n",
        "warnings.filterwarnings('ignore')\n"
      ]
    },
    {
      "cell_type": "markdown",
      "source": [
        "**Carregando o dataset** **/ Loading the dataset**"
      ],
      "metadata": {
        "id": "39qC7aRdQlJ6"
      }
    },
    {
      "cell_type": "code",
      "source": [
        "df = pd.read_csv(\"C/Mauro/Data_science/Machine_learning/Dataset/Credit_risk.csv\")"
      ],
      "metadata": {
        "id": "_GCJrqpeU3Tc"
      },
      "execution_count": null,
      "outputs": []
    },
    {
      "cell_type": "markdown",
      "source": [
        "**Visualizando as primeira 10 linhas** **/ Viewing the first 10 lines**"
      ],
      "metadata": {
        "id": "t4FLVuWIQrPb"
      }
    },
    {
      "cell_type": "code",
      "source": [
        "df.head(10)"
      ],
      "metadata": {
        "colab": {
          "base_uri": "https://localhost:8080/",
          "height": 363
        },
        "id": "qBtNWN81U4N3",
        "outputId": "b54d044e-cf97-40d8-8dd7-a08a88db4931"
      },
      "execution_count": null,
      "outputs": [
        {
          "output_type": "execute_result",
          "data": {
            "text/html": [
              "\n",
              "  <div id=\"df-9484f995-5247-4880-8854-a32cfedc7d58\">\n",
              "    <div class=\"colab-df-container\">\n",
              "      <div>\n",
              "<style scoped>\n",
              "    .dataframe tbody tr th:only-of-type {\n",
              "        vertical-align: middle;\n",
              "    }\n",
              "\n",
              "    .dataframe tbody tr th {\n",
              "        vertical-align: top;\n",
              "    }\n",
              "\n",
              "    .dataframe thead th {\n",
              "        text-align: right;\n",
              "    }\n",
              "</style>\n",
              "<table border=\"1\" class=\"dataframe\">\n",
              "  <thead>\n",
              "    <tr style=\"text-align: right;\">\n",
              "      <th></th>\n",
              "      <th>History_credit</th>\n",
              "      <th>Debt</th>\n",
              "      <th>Guarantees</th>\n",
              "      <th>Income</th>\n",
              "      <th>Risk</th>\n",
              "    </tr>\n",
              "  </thead>\n",
              "  <tbody>\n",
              "    <tr>\n",
              "      <th>0</th>\n",
              "      <td>bad</td>\n",
              "      <td>high</td>\n",
              "      <td>none</td>\n",
              "      <td>0_15</td>\n",
              "      <td>hight</td>\n",
              "    </tr>\n",
              "    <tr>\n",
              "      <th>1</th>\n",
              "      <td>unknown</td>\n",
              "      <td>high</td>\n",
              "      <td>none</td>\n",
              "      <td>15_35</td>\n",
              "      <td>hight</td>\n",
              "    </tr>\n",
              "    <tr>\n",
              "      <th>2</th>\n",
              "      <td>unknown</td>\n",
              "      <td>low</td>\n",
              "      <td>none</td>\n",
              "      <td>15_35</td>\n",
              "      <td>moderate</td>\n",
              "    </tr>\n",
              "    <tr>\n",
              "      <th>3</th>\n",
              "      <td>unknown</td>\n",
              "      <td>low</td>\n",
              "      <td>none</td>\n",
              "      <td>more_than_35</td>\n",
              "      <td>hight</td>\n",
              "    </tr>\n",
              "    <tr>\n",
              "      <th>4</th>\n",
              "      <td>unknown</td>\n",
              "      <td>low</td>\n",
              "      <td>none</td>\n",
              "      <td>more_than_35</td>\n",
              "      <td>low</td>\n",
              "    </tr>\n",
              "    <tr>\n",
              "      <th>5</th>\n",
              "      <td>unknown</td>\n",
              "      <td>low</td>\n",
              "      <td>right</td>\n",
              "      <td>more_than_35</td>\n",
              "      <td>low</td>\n",
              "    </tr>\n",
              "    <tr>\n",
              "      <th>6</th>\n",
              "      <td>bad</td>\n",
              "      <td>low</td>\n",
              "      <td>none</td>\n",
              "      <td>0_15</td>\n",
              "      <td>hight</td>\n",
              "    </tr>\n",
              "    <tr>\n",
              "      <th>7</th>\n",
              "      <td>bad</td>\n",
              "      <td>low</td>\n",
              "      <td>right</td>\n",
              "      <td>more_than_35</td>\n",
              "      <td>moderate</td>\n",
              "    </tr>\n",
              "    <tr>\n",
              "      <th>8</th>\n",
              "      <td>good</td>\n",
              "      <td>low</td>\n",
              "      <td>none</td>\n",
              "      <td>more_than_35</td>\n",
              "      <td>low</td>\n",
              "    </tr>\n",
              "    <tr>\n",
              "      <th>9</th>\n",
              "      <td>good</td>\n",
              "      <td>high</td>\n",
              "      <td>right</td>\n",
              "      <td>more_than_35</td>\n",
              "      <td>low</td>\n",
              "    </tr>\n",
              "  </tbody>\n",
              "</table>\n",
              "</div>\n",
              "      <button class=\"colab-df-convert\" onclick=\"convertToInteractive('df-9484f995-5247-4880-8854-a32cfedc7d58')\"\n",
              "              title=\"Convert this dataframe to an interactive table.\"\n",
              "              style=\"display:none;\">\n",
              "        \n",
              "  <svg xmlns=\"http://www.w3.org/2000/svg\" height=\"24px\"viewBox=\"0 0 24 24\"\n",
              "       width=\"24px\">\n",
              "    <path d=\"M0 0h24v24H0V0z\" fill=\"none\"/>\n",
              "    <path d=\"M18.56 5.44l.94 2.06.94-2.06 2.06-.94-2.06-.94-.94-2.06-.94 2.06-2.06.94zm-11 1L8.5 8.5l.94-2.06 2.06-.94-2.06-.94L8.5 2.5l-.94 2.06-2.06.94zm10 10l.94 2.06.94-2.06 2.06-.94-2.06-.94-.94-2.06-.94 2.06-2.06.94z\"/><path d=\"M17.41 7.96l-1.37-1.37c-.4-.4-.92-.59-1.43-.59-.52 0-1.04.2-1.43.59L10.3 9.45l-7.72 7.72c-.78.78-.78 2.05 0 2.83L4 21.41c.39.39.9.59 1.41.59.51 0 1.02-.2 1.41-.59l7.78-7.78 2.81-2.81c.8-.78.8-2.07 0-2.86zM5.41 20L4 18.59l7.72-7.72 1.47 1.35L5.41 20z\"/>\n",
              "  </svg>\n",
              "      </button>\n",
              "      \n",
              "  <style>\n",
              "    .colab-df-container {\n",
              "      display:flex;\n",
              "      flex-wrap:wrap;\n",
              "      gap: 12px;\n",
              "    }\n",
              "\n",
              "    .colab-df-convert {\n",
              "      background-color: #E8F0FE;\n",
              "      border: none;\n",
              "      border-radius: 50%;\n",
              "      cursor: pointer;\n",
              "      display: none;\n",
              "      fill: #1967D2;\n",
              "      height: 32px;\n",
              "      padding: 0 0 0 0;\n",
              "      width: 32px;\n",
              "    }\n",
              "\n",
              "    .colab-df-convert:hover {\n",
              "      background-color: #E2EBFA;\n",
              "      box-shadow: 0px 1px 2px rgba(60, 64, 67, 0.3), 0px 1px 3px 1px rgba(60, 64, 67, 0.15);\n",
              "      fill: #174EA6;\n",
              "    }\n",
              "\n",
              "    [theme=dark] .colab-df-convert {\n",
              "      background-color: #3B4455;\n",
              "      fill: #D2E3FC;\n",
              "    }\n",
              "\n",
              "    [theme=dark] .colab-df-convert:hover {\n",
              "      background-color: #434B5C;\n",
              "      box-shadow: 0px 1px 3px 1px rgba(0, 0, 0, 0.15);\n",
              "      filter: drop-shadow(0px 1px 2px rgba(0, 0, 0, 0.3));\n",
              "      fill: #FFFFFF;\n",
              "    }\n",
              "  </style>\n",
              "\n",
              "      <script>\n",
              "        const buttonEl =\n",
              "          document.querySelector('#df-9484f995-5247-4880-8854-a32cfedc7d58 button.colab-df-convert');\n",
              "        buttonEl.style.display =\n",
              "          google.colab.kernel.accessAllowed ? 'block' : 'none';\n",
              "\n",
              "        async function convertToInteractive(key) {\n",
              "          const element = document.querySelector('#df-9484f995-5247-4880-8854-a32cfedc7d58');\n",
              "          const dataTable =\n",
              "            await google.colab.kernel.invokeFunction('convertToInteractive',\n",
              "                                                     [key], {});\n",
              "          if (!dataTable) return;\n",
              "\n",
              "          const docLinkHtml = 'Like what you see? Visit the ' +\n",
              "            '<a target=\"_blank\" href=https://colab.research.google.com/notebooks/data_table.ipynb>data table notebook</a>'\n",
              "            + ' to learn more about interactive tables.';\n",
              "          element.innerHTML = '';\n",
              "          dataTable['output_type'] = 'display_data';\n",
              "          await google.colab.output.renderOutput(dataTable, element);\n",
              "          const docLink = document.createElement('div');\n",
              "          docLink.innerHTML = docLinkHtml;\n",
              "          element.appendChild(docLink);\n",
              "        }\n",
              "      </script>\n",
              "    </div>\n",
              "  </div>\n",
              "  "
            ],
            "text/plain": [
              "  History_credit  Debt Guarantees        Income      Risk\n",
              "0            bad  high       none          0_15     hight\n",
              "1        unknown  high       none         15_35     hight\n",
              "2        unknown   low       none         15_35  moderate\n",
              "3        unknown   low       none  more_than_35     hight\n",
              "4        unknown   low       none  more_than_35       low\n",
              "5        unknown   low      right  more_than_35       low\n",
              "6            bad   low       none          0_15     hight\n",
              "7            bad   low      right  more_than_35  moderate\n",
              "8           good   low       none  more_than_35       low\n",
              "9           good  high      right  more_than_35       low"
            ]
          },
          "metadata": {},
          "execution_count": 45
        }
      ]
    },
    {
      "cell_type": "markdown",
      "source": [
        "**Verificando se existem valores nulos** **/ Checking for null values**\n",
        "\n",
        "\n",
        "\n"
      ],
      "metadata": {
        "id": "it4yPhAYMrnN"
      }
    },
    {
      "cell_type": "code",
      "source": [
        "df.isnull().sum()"
      ],
      "metadata": {
        "colab": {
          "base_uri": "https://localhost:8080/"
        },
        "id": "NPbmPzRq-pkU",
        "outputId": "dc44a708-f70b-49b5-c477-e3860accd48b"
      },
      "execution_count": null,
      "outputs": [
        {
          "output_type": "execute_result",
          "data": {
            "text/plain": [
              "History_credit    0\n",
              "Debt              0\n",
              "Guarantees        0\n",
              "Income            0\n",
              "Risk              0\n",
              "dtype: int64"
            ]
          },
          "metadata": {},
          "execution_count": 46
        }
      ]
    },
    {
      "cell_type": "markdown",
      "source": [
        "**Verificando se existem valores duplicados** **/ Checking for duplicate values**"
      ],
      "metadata": {
        "id": "sCvj2HphQ7g9"
      }
    },
    {
      "cell_type": "code",
      "source": [
        "df.duplicated().sum()"
      ],
      "metadata": {
        "colab": {
          "base_uri": "https://localhost:8080/"
        },
        "id": "97iT6QN3-wsZ",
        "outputId": "34ea7f48-4dc1-4d38-f1a3-1114b3263a81"
      },
      "execution_count": null,
      "outputs": [
        {
          "output_type": "execute_result",
          "data": {
            "text/plain": [
              "0"
            ]
          },
          "metadata": {},
          "execution_count": 47
        }
      ]
    },
    {
      "cell_type": "markdown",
      "source": [
        "**Separando as variáveis dependentes e independentes** / **Splitting the dataset**"
      ],
      "metadata": {
        "id": "pa4-ShUCRNib"
      }
    },
    {
      "cell_type": "code",
      "source": [
        "X_prev = df.iloc[:, 0:4].values\n",
        "y_target = df.iloc[:, 4].values"
      ],
      "metadata": {
        "id": "VR-ec73DU4-Q"
      },
      "execution_count": null,
      "outputs": []
    },
    {
      "cell_type": "markdown",
      "source": [
        "**Codificação de dados categóricos** **/ Encoding the categorical data**"
      ],
      "metadata": {
        "id": "PgknvBj6R8_N"
      }
    },
    {
      "cell_type": "code",
      "source": [
        "le = LabelEncoder()"
      ],
      "metadata": {
        "id": "f1fl6Wv_ycuK"
      },
      "execution_count": null,
      "outputs": []
    },
    {
      "cell_type": "code",
      "source": [
        "X_prev[:,0] = le.fit_transform(X_prev[:,0])\n",
        "X_prev[:,1] = le.fit_transform(X_prev[:,1])\n",
        "X_prev[:,2] = le.fit_transform(X_prev[:,2])\n",
        "X_prev[:,3] = le.fit_transform(X_prev[:,3])\n"
      ],
      "metadata": {
        "id": "jVVpl--EyhHJ"
      },
      "execution_count": null,
      "outputs": []
    },
    {
      "cell_type": "markdown",
      "source": [
        "**Implementando o algoritmo Naive Bayes na base de dados** **/ Implementing the Naive Bayes algorithm in the database**"
      ],
      "metadata": {
        "id": "-BElegAHMKsK"
      }
    },
    {
      "cell_type": "code",
      "source": [
        "Bayes_risk = GaussianNB()\n",
        "Bayes_risk.fit(X_prev, y_target)"
      ],
      "metadata": {
        "colab": {
          "base_uri": "https://localhost:8080/"
        },
        "id": "fboQZZ1vdQLc",
        "outputId": "4047823a-3ed3-4f76-fd48-81f89328f95a"
      },
      "execution_count": null,
      "outputs": [
        {
          "output_type": "execute_result",
          "data": {
            "text/plain": [
              "GaussianNB()"
            ]
          },
          "metadata": {},
          "execution_count": 140
        }
      ]
    },
    {
      "cell_type": "markdown",
      "source": [
        "**Entrada para realizar previsões** **/ Input to predictions**\n",
        "\n",
        "\n"
      ],
      "metadata": {
        "id": "sIZpITWaepCk"
      }
    },
    {
      "cell_type": "markdown",
      "source": [
        "\n",
        "\n",
        "1.   **History_credit** = good(1)\n",
        "2.   **Debt**  = high(0)\n",
        "3.   **Guarantees** = right(1)\n",
        "4.   **Income** = more_than_35(2)\n",
        "\n",
        "\n",
        "\n"
      ],
      "metadata": {
        "id": "OOzyNDMVH8ep"
      }
    },
    {
      "cell_type": "code",
      "source": [
        "new_prev = Bayes_risk.predict([[1,0,1,2]])\n",
        "new_prev"
      ],
      "metadata": {
        "id": "iwNOfHQHbuTC",
        "colab": {
          "base_uri": "https://localhost:8080/"
        },
        "outputId": "8c1f97ba-2f3d-487f-aa3a-a021dfa319a8"
      },
      "execution_count": null,
      "outputs": [
        {
          "output_type": "execute_result",
          "data": {
            "text/plain": [
              "array(['low'], dtype='<U8')"
            ]
          },
          "metadata": {},
          "execution_count": 141
        }
      ]
    },
    {
      "cell_type": "code",
      "source": [
        "print(\"Previsão para novo cliente:\", new_prev,'= Cliente apresenta Baixo risco')"
      ],
      "metadata": {
        "colab": {
          "base_uri": "https://localhost:8080/"
        },
        "id": "4VHXnEIKVzPS",
        "outputId": "2dff7d24-659e-43b4-beff-aa1c6d216520"
      },
      "execution_count": null,
      "outputs": [
        {
          "output_type": "stream",
          "name": "stdout",
          "text": [
            "Previsão para novo cliente: ['low'] = Cliente apresenta Baixo risco\n"
          ]
        }
      ]
    },
    {
      "cell_type": "markdown",
      "source": [
        "\n",
        "\n",
        "1.   **History_credit** = good(0)\n",
        "2.   **Debt**  = high(1)\n",
        "3.   **Guarantees** = right(1)\n",
        "4.   **Income** = more_than_35(1)\n",
        "\n",
        "\n",
        "\n"
      ],
      "metadata": {
        "id": "Dce1darwQOiO"
      }
    },
    {
      "cell_type": "code",
      "source": [
        "new_prev = Bayes_risk.predict([[0,1,1,1]])\n",
        "new_prev"
      ],
      "metadata": {
        "colab": {
          "base_uri": "https://localhost:8080/"
        },
        "id": "x4FQrx2Cb300",
        "outputId": "474ba031-0d73-40cf-f425-5d886539b71e"
      },
      "execution_count": null,
      "outputs": [
        {
          "output_type": "execute_result",
          "data": {
            "text/plain": [
              "array(['moderate'], dtype='<U8')"
            ]
          },
          "metadata": {},
          "execution_count": 125
        }
      ]
    },
    {
      "cell_type": "code",
      "source": [
        "print(\"Previsão para novo cliente:\", new_prev,'= Cliente apresenta risco moderado')"
      ],
      "metadata": {
        "colab": {
          "base_uri": "https://localhost:8080/"
        },
        "id": "QH89FqvZVgtB",
        "outputId": "7820213e-e5d4-4498-c365-f9069e011336"
      },
      "execution_count": null,
      "outputs": [
        {
          "output_type": "stream",
          "name": "stdout",
          "text": [
            "Previsão para novo cliente: ['moderate'] = Cliente apresenta risco moderado\n"
          ]
        }
      ]
    },
    {
      "cell_type": "markdown",
      "source": [
        "**Visualizando a porcentagem de probabilidades a priori / percentage a priori probabilities**"
      ],
      "metadata": {
        "id": "nWy4M6JQUFbU"
      }
    },
    {
      "cell_type": "code",
      "source": [
        "Bayes_risk.class_prior_\n"
      ],
      "metadata": {
        "colab": {
          "base_uri": "https://localhost:8080/"
        },
        "id": "rhk4Pc8Um2xr",
        "outputId": "44e4c891-a705-491f-ba5a-ccf0d4cf7d9d"
      },
      "execution_count": null,
      "outputs": [
        {
          "output_type": "execute_result",
          "data": {
            "text/plain": [
              "array([0.42857143, 0.35714286, 0.21428571])"
            ]
          },
          "metadata": {},
          "execution_count": 123
        }
      ]
    }
  ]
}